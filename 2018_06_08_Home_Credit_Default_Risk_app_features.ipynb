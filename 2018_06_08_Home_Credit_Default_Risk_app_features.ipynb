{
 "cells": [
  {
   "cell_type": "markdown",
   "metadata": {},
   "source": [
    "# Home Credit Default Risk 2018"
   ]
  },
  {
   "cell_type": "markdown",
   "metadata": {},
   "source": [
    "https://www.kaggle.com/c/home-credit-default-risk\n",
    "\n",
    "Binary classification with metric ROC-AUC"
   ]
  },
  {
   "cell_type": "markdown",
   "metadata": {},
   "source": [
    "# 0 step - prepairing the environment"
   ]
  },
  {
   "cell_type": "markdown",
   "metadata": {},
   "source": [
    "### Importing all libraries"
   ]
  },
  {
   "cell_type": "code",
   "execution_count": 1,
   "metadata": {},
   "outputs": [],
   "source": [
    "import pandas as pd"
   ]
  },
  {
   "cell_type": "markdown",
   "metadata": {},
   "source": [
    "### Loading data"
   ]
  },
  {
   "cell_type": "code",
   "execution_count": 3,
   "metadata": {},
   "outputs": [
    {
     "data": {
      "text/html": [
       "<div>\n",
       "<style scoped>\n",
       "    .dataframe tbody tr th:only-of-type {\n",
       "        vertical-align: middle;\n",
       "    }\n",
       "\n",
       "    .dataframe tbody tr th {\n",
       "        vertical-align: top;\n",
       "    }\n",
       "\n",
       "    .dataframe thead th {\n",
       "        text-align: right;\n",
       "    }\n",
       "</style>\n",
       "<table border=\"1\" class=\"dataframe\">\n",
       "  <thead>\n",
       "    <tr style=\"text-align: right;\">\n",
       "      <th></th>\n",
       "      <th>SK_ID_CURR</th>\n",
       "      <th>TARGET</th>\n",
       "      <th>NAME_CONTRACT_TYPE</th>\n",
       "      <th>CODE_GENDER</th>\n",
       "      <th>FLAG_OWN_CAR</th>\n",
       "      <th>FLAG_OWN_REALTY</th>\n",
       "      <th>CNT_CHILDREN</th>\n",
       "      <th>AMT_INCOME_TOTAL</th>\n",
       "      <th>AMT_CREDIT</th>\n",
       "      <th>AMT_ANNUITY</th>\n",
       "      <th>...</th>\n",
       "      <th>FLAG_DOCUMENT_18</th>\n",
       "      <th>FLAG_DOCUMENT_19</th>\n",
       "      <th>FLAG_DOCUMENT_20</th>\n",
       "      <th>FLAG_DOCUMENT_21</th>\n",
       "      <th>AMT_REQ_CREDIT_BUREAU_HOUR</th>\n",
       "      <th>AMT_REQ_CREDIT_BUREAU_DAY</th>\n",
       "      <th>AMT_REQ_CREDIT_BUREAU_WEEK</th>\n",
       "      <th>AMT_REQ_CREDIT_BUREAU_MON</th>\n",
       "      <th>AMT_REQ_CREDIT_BUREAU_QRT</th>\n",
       "      <th>AMT_REQ_CREDIT_BUREAU_YEAR</th>\n",
       "    </tr>\n",
       "  </thead>\n",
       "  <tbody>\n",
       "    <tr>\n",
       "      <th>0</th>\n",
       "      <td>100002</td>\n",
       "      <td>1</td>\n",
       "      <td>Cash loans</td>\n",
       "      <td>M</td>\n",
       "      <td>N</td>\n",
       "      <td>Y</td>\n",
       "      <td>0</td>\n",
       "      <td>202500.0</td>\n",
       "      <td>406597.5</td>\n",
       "      <td>24700.5</td>\n",
       "      <td>...</td>\n",
       "      <td>0</td>\n",
       "      <td>0</td>\n",
       "      <td>0</td>\n",
       "      <td>0</td>\n",
       "      <td>0.0</td>\n",
       "      <td>0.0</td>\n",
       "      <td>0.0</td>\n",
       "      <td>0.0</td>\n",
       "      <td>0.0</td>\n",
       "      <td>1.0</td>\n",
       "    </tr>\n",
       "    <tr>\n",
       "      <th>1</th>\n",
       "      <td>100003</td>\n",
       "      <td>0</td>\n",
       "      <td>Cash loans</td>\n",
       "      <td>F</td>\n",
       "      <td>N</td>\n",
       "      <td>N</td>\n",
       "      <td>0</td>\n",
       "      <td>270000.0</td>\n",
       "      <td>1293502.5</td>\n",
       "      <td>35698.5</td>\n",
       "      <td>...</td>\n",
       "      <td>0</td>\n",
       "      <td>0</td>\n",
       "      <td>0</td>\n",
       "      <td>0</td>\n",
       "      <td>0.0</td>\n",
       "      <td>0.0</td>\n",
       "      <td>0.0</td>\n",
       "      <td>0.0</td>\n",
       "      <td>0.0</td>\n",
       "      <td>0.0</td>\n",
       "    </tr>\n",
       "    <tr>\n",
       "      <th>2</th>\n",
       "      <td>100004</td>\n",
       "      <td>0</td>\n",
       "      <td>Revolving loans</td>\n",
       "      <td>M</td>\n",
       "      <td>Y</td>\n",
       "      <td>Y</td>\n",
       "      <td>0</td>\n",
       "      <td>67500.0</td>\n",
       "      <td>135000.0</td>\n",
       "      <td>6750.0</td>\n",
       "      <td>...</td>\n",
       "      <td>0</td>\n",
       "      <td>0</td>\n",
       "      <td>0</td>\n",
       "      <td>0</td>\n",
       "      <td>0.0</td>\n",
       "      <td>0.0</td>\n",
       "      <td>0.0</td>\n",
       "      <td>0.0</td>\n",
       "      <td>0.0</td>\n",
       "      <td>0.0</td>\n",
       "    </tr>\n",
       "    <tr>\n",
       "      <th>3</th>\n",
       "      <td>100006</td>\n",
       "      <td>0</td>\n",
       "      <td>Cash loans</td>\n",
       "      <td>F</td>\n",
       "      <td>N</td>\n",
       "      <td>Y</td>\n",
       "      <td>0</td>\n",
       "      <td>135000.0</td>\n",
       "      <td>312682.5</td>\n",
       "      <td>29686.5</td>\n",
       "      <td>...</td>\n",
       "      <td>0</td>\n",
       "      <td>0</td>\n",
       "      <td>0</td>\n",
       "      <td>0</td>\n",
       "      <td>NaN</td>\n",
       "      <td>NaN</td>\n",
       "      <td>NaN</td>\n",
       "      <td>NaN</td>\n",
       "      <td>NaN</td>\n",
       "      <td>NaN</td>\n",
       "    </tr>\n",
       "    <tr>\n",
       "      <th>4</th>\n",
       "      <td>100007</td>\n",
       "      <td>0</td>\n",
       "      <td>Cash loans</td>\n",
       "      <td>M</td>\n",
       "      <td>N</td>\n",
       "      <td>Y</td>\n",
       "      <td>0</td>\n",
       "      <td>121500.0</td>\n",
       "      <td>513000.0</td>\n",
       "      <td>21865.5</td>\n",
       "      <td>...</td>\n",
       "      <td>0</td>\n",
       "      <td>0</td>\n",
       "      <td>0</td>\n",
       "      <td>0</td>\n",
       "      <td>0.0</td>\n",
       "      <td>0.0</td>\n",
       "      <td>0.0</td>\n",
       "      <td>0.0</td>\n",
       "      <td>0.0</td>\n",
       "      <td>0.0</td>\n",
       "    </tr>\n",
       "  </tbody>\n",
       "</table>\n",
       "<p>5 rows × 122 columns</p>\n",
       "</div>"
      ],
      "text/plain": [
       "   SK_ID_CURR  TARGET NAME_CONTRACT_TYPE CODE_GENDER FLAG_OWN_CAR  \\\n",
       "0      100002       1         Cash loans           M            N   \n",
       "1      100003       0         Cash loans           F            N   \n",
       "2      100004       0    Revolving loans           M            Y   \n",
       "3      100006       0         Cash loans           F            N   \n",
       "4      100007       0         Cash loans           M            N   \n",
       "\n",
       "  FLAG_OWN_REALTY  CNT_CHILDREN  AMT_INCOME_TOTAL  AMT_CREDIT  AMT_ANNUITY  \\\n",
       "0               Y             0          202500.0    406597.5      24700.5   \n",
       "1               N             0          270000.0   1293502.5      35698.5   \n",
       "2               Y             0           67500.0    135000.0       6750.0   \n",
       "3               Y             0          135000.0    312682.5      29686.5   \n",
       "4               Y             0          121500.0    513000.0      21865.5   \n",
       "\n",
       "              ...              FLAG_DOCUMENT_18 FLAG_DOCUMENT_19  \\\n",
       "0             ...                             0                0   \n",
       "1             ...                             0                0   \n",
       "2             ...                             0                0   \n",
       "3             ...                             0                0   \n",
       "4             ...                             0                0   \n",
       "\n",
       "  FLAG_DOCUMENT_20 FLAG_DOCUMENT_21 AMT_REQ_CREDIT_BUREAU_HOUR  \\\n",
       "0                0                0                        0.0   \n",
       "1                0                0                        0.0   \n",
       "2                0                0                        0.0   \n",
       "3                0                0                        NaN   \n",
       "4                0                0                        0.0   \n",
       "\n",
       "  AMT_REQ_CREDIT_BUREAU_DAY  AMT_REQ_CREDIT_BUREAU_WEEK  \\\n",
       "0                       0.0                         0.0   \n",
       "1                       0.0                         0.0   \n",
       "2                       0.0                         0.0   \n",
       "3                       NaN                         NaN   \n",
       "4                       0.0                         0.0   \n",
       "\n",
       "   AMT_REQ_CREDIT_BUREAU_MON  AMT_REQ_CREDIT_BUREAU_QRT  \\\n",
       "0                        0.0                        0.0   \n",
       "1                        0.0                        0.0   \n",
       "2                        0.0                        0.0   \n",
       "3                        NaN                        NaN   \n",
       "4                        0.0                        0.0   \n",
       "\n",
       "   AMT_REQ_CREDIT_BUREAU_YEAR  \n",
       "0                         1.0  \n",
       "1                         0.0  \n",
       "2                         0.0  \n",
       "3                         NaN  \n",
       "4                         0.0  \n",
       "\n",
       "[5 rows x 122 columns]"
      ]
     },
     "execution_count": 3,
     "metadata": {},
     "output_type": "execute_result"
    }
   ],
   "source": [
    "df_application_train = pd.read_csv('application_train.csv')\n",
    "df_application_train.head()"
   ]
  },
  {
   "cell_type": "code",
   "execution_count": 49,
   "metadata": {},
   "outputs": [
    {
     "data": {
      "text/plain": [
       "33"
      ]
     },
     "execution_count": 49,
     "metadata": {},
     "output_type": "execute_result"
    }
   ],
   "source": [
    "features_for_loan = [\n",
    "    'SK_ID_CURR',                 #ID of loan in our sample\n",
    "    'AMT_ANNUITY',                #Loan annuity\n",
    "    'AMT_CREDIT',                 #Credit amount of the loan\n",
    "    'AMT_GOODS_PRICE',            #For consumer loans it is the price of the goods for which the loan is given\n",
    "    'NAME_CONTRACT_TYPE',         #Identification if loan is cash or revolving\n",
    "    'HOUR_APPR_PROCESS_START',    #Approximately at what hour did the client apply for the loan\n",
    "    'WEEKDAY_APPR_PROCESS_START', #On which day of the week did the client apply for the loan\n",
    "    'NAME_TYPE_SUITE',            #Who was accompanying client when he was applying for the loan\n",
    "    \n",
    "    'FLAG_DOCUMENT_2',     #Did client provide document 2\n",
    "    'FLAG_DOCUMENT_3',     #Did client provide document 3\n",
    "    'FLAG_DOCUMENT_4',     #Did client provide document 4\n",
    "    'FLAG_DOCUMENT_5',     #Did client provide document 5\n",
    "    'FLAG_DOCUMENT_6',     #Did client provide document 6\n",
    "    'FLAG_DOCUMENT_7',     #Did client provide document 7\n",
    "    'FLAG_DOCUMENT_8',     #Did client provide document 8\n",
    "    'FLAG_DOCUMENT_9',     #Did client provide document 9\n",
    "    'FLAG_DOCUMENT_10',    #Did client provide document 10\n",
    "    'FLAG_DOCUMENT_11',    #Did client provide document 11\n",
    "    'FLAG_DOCUMENT_12',    #Did client provide document 12\n",
    "    'FLAG_DOCUMENT_13',    #Did client provide document 13\n",
    "    'FLAG_DOCUMENT_14',    #Did client provide document 14\n",
    "    'FLAG_DOCUMENT_15',    #Did client provide document 15\n",
    "    'FLAG_DOCUMENT_16',    #Did client provide document 16\n",
    "    'FLAG_DOCUMENT_17',    #Did client provide document 17\n",
    "    'FLAG_DOCUMENT_18',    #Did client provide document 18\n",
    "    'FLAG_DOCUMENT_19',    #Did client provide document 19\n",
    "    'FLAG_DOCUMENT_20',    #Did client provide document 20\n",
    "    'FLAG_DOCUMENT_21',    #Did client provide document 21\n",
    "    'FLAG_EMAIL',          #Did client provide email (1=YES, 0=NO)\n",
    "    'FLAG_EMP_PHONE',      #Did client provide work phone (1=YES, 0=NO)\n",
    "    'FLAG_MOBIL',          #Did client provide mobile phone (1=YES, 0=NO)\n",
    "    'FLAG_PHONE',          #Did client provide home phone (1=YES, 0=NO)\n",
    "    'FLAG_WORK_PHONE'      #Did client provide home phone (1=YES, 0=NO)\n",
    "]\n",
    "len(features_for_loan)"
   ]
  },
  {
   "cell_type": "code",
   "execution_count": 53,
   "metadata": {},
   "outputs": [
    {
     "data": {
      "text/plain": [
       "15"
      ]
     },
     "execution_count": 53,
     "metadata": {},
     "output_type": "execute_result"
    }
   ],
   "source": [
    "features_for_history = [\n",
    "                            #time only relative to the application\n",
    "    'DAYS_BIRTH',                 #Client's age in days at the time of application\n",
    "    'DAYS_EMPLOYED',              #How many days before the application the person started current employment\n",
    "    'DAYS_ID_PUBLISH',            #How many days before the application did client change the identity document with which he applied for the loan\n",
    "    'DAYS_REGISTRATION',          #How many days before the application did client change his registration\n",
    "\n",
    "    'DAYS_LAST_PHONE_CHANGE',     #How many days before the application did client change phone\n",
    "    \n",
    "    'AMT_REQ_CREDIT_BUREAU_DAY',  #Number of enquiries to Credit Bureau about the client one day before application (excluding one hour before application)\n",
    "    'AMT_REQ_CREDIT_BUREAU_HOUR', #Number of enquiries to Credit Bureau about the client one hour before application\n",
    "    'AMT_REQ_CREDIT_BUREAU_MON',  #Number of enquiries to Credit Bureau about the client one month before application (excluding one week before application)\n",
    "    'AMT_REQ_CREDIT_BUREAU_QRT',  #Number of enquiries to Credit Bureau about the client 3 month before application (excluding one month before application)\n",
    "    'AMT_REQ_CREDIT_BUREAU_WEEK', #Number of enquiries to Credit Bureau about the client one week before application (excluding one day before application)\n",
    "    'AMT_REQ_CREDIT_BUREAU_YEAR', #Number of enquiries to Credit Bureau about the client one day year (excluding last 3 months before application)\n",
    "    \n",
    "    'OBS_30_CNT_SOCIAL_CIRCLE',   #How many observation of client's social surroundings with observable 30 DPD (days past due) default\n",
    "    'OBS_60_CNT_SOCIAL_CIRCLE',   #How many observation of client's social surroundings with observable 60 DPD (days past due) default\n",
    "    'DEF_30_CNT_SOCIAL_CIRCLE',   #How many observation of client's social surroundings defaulted on 30 DPD (days past due) \n",
    "    'DEF_60_CNT_SOCIAL_CIRCLE'    #How many observation of client's social surroundings defaulted on 60 (days past due) DPD\n",
    "]\n",
    "len(features_for_history)"
   ]
  },
  {
   "cell_type": "code",
   "execution_count": 51,
   "metadata": {},
   "outputs": [
    {
     "data": {
      "text/plain": [
       "20"
      ]
     },
     "execution_count": 51,
     "metadata": {},
     "output_type": "execute_result"
    }
   ],
   "source": [
    "features_for_client = [\n",
    "    'CODE_GENDER',          #Gender of the client\n",
    "    \n",
    "    'NAME_EDUCATION_TYPE',  #Level of highest education the client achieved\n",
    "    'NAME_FAMILY_STATUS',   #Family status of the client\n",
    "    'CNT_FAM_MEMBERS',      #How many family members does client have\n",
    "    'CNT_CHILDREN',         #Number of children the client has\n",
    "    \n",
    "    'NAME_INCOME_TYPE',     #Clients income type (businessman, working, maternity leave,…)\n",
    "    'AMT_INCOME_TOTAL',     #Income of the client\n",
    "    'OCCUPATION_TYPE',      #What kind of occupation does the client have\n",
    "    'ORGANIZATION_TYPE',    #Type of organization where client works\n",
    "\n",
    "    'NAME_HOUSING_TYPE',    #What is the housing situation of the client (renting, living with parents, ...)\n",
    "    'FLAG_OWN_REALTY',      #Flag if client owns a house or flat\n",
    "    'LIVE_CITY_NOT_WORK_CITY',     #Flag if client's contact address does not match work address (1=different, 0=same, at city level)\n",
    "    'LIVE_REGION_NOT_WORK_REGION', #Flag if client's contact address does not match work address (1=different, 0=same, at region level)\n",
    "    'REG_CITY_NOT_LIVE_CITY',      #Flag if client's permanent address does not match contact address (1=different, 0=same, at city level)\n",
    "    'REG_CITY_NOT_WORK_CITY',      #Flag if client's permanent address does not match work address (1=different, 0=same, at city level)\n",
    "    'REG_REGION_NOT_LIVE_REGION',  #Flag if client's permanent address does not match contact address (1=different, 0=same, at region level)\n",
    "    'REG_REGION_NOT_WORK_REGION',  #Flag if client's permanent address does not match work address (1=different, 0=same, at region level)\n",
    "\n",
    "    'FLAG_OWN_CAR',         #Flag if the client owns a car\n",
    "    'OWN_CAR_AGE',          #Age of client's car\n",
    "    \n",
    "    'FLAG_CONT_MOBILE'      #Was mobile phone reachable (1=YES, 0=NO)\n",
    "]\n",
    "len(features_for_client)"
   ]
  },
  {
   "cell_type": "code",
   "execution_count": 64,
   "metadata": {},
   "outputs": [
    {
     "data": {
      "text/plain": [
       "50"
      ]
     },
     "execution_count": 64,
     "metadata": {},
     "output_type": "execute_result"
    }
   ],
   "source": [
    "features_for_client_building = [  \n",
    "    'REGION_POPULATION_RELATIVE',  #Normalized population of region where client lives \n",
    "                                   #(higher number means the client lives in more populated region)\n",
    "    'REGION_RATING_CLIENT',        #Our rating of the region where client lives (1,2,3)\n",
    "    'REGION_RATING_CLIENT_W_CITY', #Our rating of the region where client lives with taking city into account (1,2,3)\n",
    "\n",
    "    # Normalized information about building where the client lives\n",
    "    # average (_AVG suffix), modus (_MODE suffix), median (_MEDI suffix) \n",
    "    # apartment size, common area, living area, age of building, number of elevators, number of entrances, \n",
    "    # state of the building, number of floor\n",
    "    'APARTMENTS_AVG', \n",
    "    'APARTMENTS_MEDI', \n",
    "    'APARTMENTS_MODE', \n",
    "    'BASEMENTAREA_AVG', \n",
    "    'BASEMENTAREA_MEDI', \n",
    "    'BASEMENTAREA_MODE', \n",
    "    'COMMONAREA_AVG', \n",
    "    'COMMONAREA_MEDI', \n",
    "    'COMMONAREA_MODE', \n",
    "    'ELEVATORS_AVG', \n",
    "    'ELEVATORS_MEDI', \n",
    "    'ELEVATORS_MODE', \n",
    "    'EMERGENCYSTATE_MODE', \n",
    "    'ENTRANCES_AVG', \n",
    "    'ENTRANCES_MEDI', \n",
    "    'ENTRANCES_MODE', \n",
    "    'FLOORSMAX_AVG',\n",
    "    'FLOORSMAX_MEDI',\n",
    "    'FLOORSMAX_MODE',\n",
    "    'FLOORSMIN_AVG',\n",
    "    'FLOORSMIN_MEDI',\n",
    "    'FLOORSMIN_MODE',\n",
    "    'FONDKAPREMONT_MODE',\n",
    "    'HOUSETYPE_MODE',\n",
    "    'LANDAREA_AVG',\n",
    "    'LANDAREA_MEDI',\n",
    "    'LANDAREA_MODE',\n",
    "    'LIVINGAPARTMENTS_AVG',\n",
    "    'LIVINGAPARTMENTS_MEDI',\n",
    "    'LIVINGAPARTMENTS_MODE',\n",
    "    'LIVINGAREA_AVG',\n",
    "    'LIVINGAREA_MEDI',\n",
    "    'LIVINGAREA_MODE',\n",
    "    'NONLIVINGAPARTMENTS_AVG',\n",
    "    'NONLIVINGAPARTMENTS_MEDI',\n",
    "    'NONLIVINGAPARTMENTS_MODE',\n",
    "    'NONLIVINGAREA_AVG',\n",
    "    'NONLIVINGAREA_MEDI',\n",
    "    'NONLIVINGAREA_MODE',\n",
    "    'TOTALAREA_MODE',\n",
    "    'WALLSMATERIAL_MODE',\n",
    "    'YEARS_BEGINEXPLUATATION_AVG', \n",
    "    'YEARS_BEGINEXPLUATATION_MEDI',\n",
    "    'YEARS_BEGINEXPLUATATION_MODE',\n",
    "    'YEARS_BUILD_AVG',\n",
    "    'YEARS_BUILD_MEDI',\n",
    "    'YEARS_BUILD_MODE'\n",
    "]\n",
    "len(features_for_client_building)"
   ]
  },
  {
   "cell_type": "code",
   "execution_count": 54,
   "metadata": {},
   "outputs": [
    {
     "data": {
      "text/plain": [
       "3"
      ]
     },
     "execution_count": 54,
     "metadata": {},
     "output_type": "execute_result"
    }
   ],
   "source": [
    "features_unrecognized = [  \n",
    "    'EXT_SOURCE_1', #Normalized score from external data source\n",
    "    'EXT_SOURCE_2', #Normalized score from external data source\n",
    "    'EXT_SOURCE_3'  #Normalized score from external data source\n",
    "]\n",
    "len(features_unrecognized)"
   ]
  }
 ],
 "metadata": {
  "kernelspec": {
   "display_name": "Python 2",
   "language": "python",
   "name": "python2"
  },
  "language_info": {
   "codemirror_mode": {
    "name": "ipython",
    "version": 2
   },
   "file_extension": ".py",
   "mimetype": "text/x-python",
   "name": "python",
   "nbconvert_exporter": "python",
   "pygments_lexer": "ipython2",
   "version": "2.7.14"
  }
 },
 "nbformat": 4,
 "nbformat_minor": 2
}
